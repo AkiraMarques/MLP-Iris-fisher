{
  "nbformat": 4,
  "nbformat_minor": 0,
  "metadata": {
    "colab": {
      "provenance": [],
      "authorship_tag": "ABX9TyPN/2xXXNCKmHXZ4zoUmhiS",
      "include_colab_link": true
    },
    "kernelspec": {
      "name": "python3",
      "display_name": "Python 3"
    },
    "language_info": {
      "name": "python"
    }
  },
  "cells": [
    {
      "cell_type": "markdown",
      "metadata": {
        "id": "view-in-github",
        "colab_type": "text"
      },
      "source": [
        "<a href=\"https://colab.research.google.com/github/AkiraMarques/MLP-Iris-fisher/blob/main/Tarefa2.ipynb\" target=\"_parent\"><img src=\"https://colab.research.google.com/assets/colab-badge.svg\" alt=\"Open In Colab\"/></a>"
      ]
    },
    {
      "cell_type": "code",
      "execution_count": 100,
      "metadata": {
        "id": "WnYzVHxBGMit"
      },
      "outputs": [],
      "source": [
        "# importando bibliotecas\n",
        "import numpy as np\n",
        "import pandas as pd\n",
        "from sklearn.datasets import load_iris # dataset Fisher Iris"
      ]
    },
    {
      "cell_type": "code",
      "source": [
        "# dados\n",
        "\n",
        "# importando dados com pandas\n",
        "'''\n",
        "url = \"https://raw.githubusercontent.com/jbrownlee/Datasets/master/pima-indians-diabetes.data.csv\"\n",
        "df = pd.read_csv(url)\n",
        "'''\n",
        "\n",
        "iris = load_iris()\n",
        "\n",
        "df = pd.DataFrame(data= np.c_[iris['data'], iris['target']],\n",
        "                     columns= iris['feature_names'] + ['target'])\n",
        "\n",
        "# Assumindo que a última coluna é a label\n",
        "X = df.iloc[:, :-1].values  # Features\n",
        "y = df.iloc[:, -1].values.reshape(-1, 1)  # Labels\n",
        "\n",
        "# Normalizar as features\n",
        "X = (X - X.min(axis=0)) / (X.max(axis=0) - X.min(axis=0))\n",
        "\n",
        "# Garantir que as labels estão no formato correto\n",
        "y = y.astype(int)"
      ],
      "metadata": {
        "id": "5t5ftaxFGnXP"
      },
      "execution_count": 101,
      "outputs": []
    },
    {
      "cell_type": "code",
      "source": [
        "# função para One-Hot Encoding manual para classificar as 3 classes\n",
        "def one_hot_encode(y, num_classes):\n",
        "  one_hot = np.zeros((y.shape[0], num_classes))\n",
        "  one_hot[np.arange(y.shape[0]), y.flatten()] = 1\n",
        "  return one_hot\n",
        "\n",
        "# aplicando o one-hot encoding\n",
        "y = one_hot_encode(y, 3)"
      ],
      "metadata": {
        "id": "WgcfH3ZYqM3o"
      },
      "execution_count": 102,
      "outputs": []
    },
    {
      "cell_type": "code",
      "source": [
        "# função para dividir dados em treino, validação e teste\n",
        "def div_dados(X, y, tam_treino=0.5, tam_val=0.3, tam_teste=0.2): # como padrão deixei tam de treino, validação e teste como 50%, 30% e 20% respectivamente\n",
        "  # misturando os dados\n",
        "  indices = np.arange(X.shape[0])\n",
        "  np.random.seed(90)\n",
        "  np.random.shuffle(indices)\n",
        "\n",
        "  X = X[indices]\n",
        "  y = y[indices]\n",
        "\n",
        "  # Determinar os tamanhos dos conjuntos\n",
        "  fim_treino = int(tam_treino * X.shape[0])\n",
        "  fim_val = fim_treino + int(tam_val * X.shape[0])\n",
        "\n",
        "  # Divisão dos dados\n",
        "  X_treino, X_val, X_teste = X[:fim_treino], X[fim_treino:fim_val], X[fim_val:]\n",
        "  y_treino, y_val, y_teste = y[:fim_treino], y[fim_treino:fim_val], y[fim_val:]\n",
        "\n",
        "  return X_treino, X_val, X_teste, y_treino, y_val, y_teste"
      ],
      "metadata": {
        "id": "pduYGE2eHA_n"
      },
      "execution_count": 103,
      "outputs": []
    },
    {
      "cell_type": "code",
      "source": [
        "# criando objeto MLP e suas funções\n",
        "class MLP:\n",
        "  def __init__(self, input_size, hidden_size, output_size, taxa_aprendizado=0.1):\n",
        "    self.taxa_aprendizado = taxa_aprendizado\n",
        "    # iniciando pesos com valores iguais a zero\n",
        "    self.w_input_hidden = np.zeros((input_size, hidden_size)) # pesos das entradas para as camadas ocultas\n",
        "    self.w_hidden_output = np.zeros((hidden_size, output_size)) # pesos das camadas ocultas para as saídas\n",
        "\n",
        "    # iniciando os bias com zeros\n",
        "    self.bias_hidden = np.zeros((1, hidden_size)) # bias das camadas ocultas\n",
        "    self.bias_output = np.zeros((1, output_size)) # bias das saídas\n",
        "\n",
        "  def feedforward(self, X):\n",
        "    # camada oculta\n",
        "    self.hidden_input = np.dot(X, self.w_input_hidden) + self.bias_hidden\n",
        "    self.hidden_output = sigmoid(self.hidden_input)\n",
        "\n",
        "    # camada de saída\n",
        "    self.final_input = np.dot(self.hidden_output, self.w_hidden_output) + self.bias_output\n",
        "    self.final_output = softmax(self.final_input)\n",
        "\n",
        "    return self.final_output\n",
        "\n",
        "  def backpropagation(self, X, y_real):\n",
        "    # forward\n",
        "    y_prev = self.feedforward(X)\n",
        "\n",
        "    # calculando erro da camada de saída\n",
        "    erro_camada_saida = y_real - y_prev\n",
        "\n",
        "    # gradiente da camada de saída\n",
        "    grad_saida = erro_camada_saida\n",
        "\n",
        "    # erro camada oculta\n",
        "    erro_camada_hidden = grad_saida.dot(self.w_hidden_output.T)\n",
        "    grad_hidden = erro_camada_hidden * deriv_sigmoid(self.hidden_output)\n",
        "\n",
        "    # atualizando pesos e bias\n",
        "    self.w_input_hidden += self.taxa_aprendizado * np.dot(X.T, grad_hidden)\n",
        "    self.bias_hidden += self.taxa_aprendizado * np.sum(grad_hidden, axis=0, keepdims=True)\n",
        "\n",
        "    self.w_hidden_output += self.taxa_aprendizado * np.dot(self.hidden_output.T, grad_saida)\n",
        "    self.bias_output += self.taxa_aprendizado * np.sum(grad_saida, axis=0, keepdims=True)\n",
        "\n",
        "  def train(self, X_treino, y_treino, X_val=None, y_val=None, epochs=1000):\n",
        "    for e in range(epochs):\n",
        "      # Embaralhar dados de treinamento\n",
        "      indices = np.arange(X_treino.shape[0])\n",
        "      np.random.shuffle(indices)\n",
        "      X_treino = X_treino[indices]\n",
        "      y_treino = y_treino[indices]\n",
        "\n",
        "      # forward e backpropagation\n",
        "      self.backpropagation(X_treino, y_treino)\n",
        "\n",
        "      if e % 100 == 0:\n",
        "        # calculando perda nos dados de treinamento\n",
        "        y_prev_treino = self.feedforward(X_treino)\n",
        "        perda_treino = mse_perda(y_treino, y_prev_treino)\n",
        "\n",
        "        if X_val is not None and y_val is not None:\n",
        "          # calculando perda nos dados de validação, se os mesmos existirem\n",
        "          y_prev_val = self.feedforward(X_val)\n",
        "          perda_val = mse_perda(y_val, y_prev_val)\n",
        "          print(f'Epoch: {e}, Perda no treino: {perda_treino:.4f}, Perda na validação: {perda_val:.4f}')\n",
        "        else:\n",
        "          print(f'Epoch: {e}, Perda no treino: {perda_treino:.4f}')\n",
        "\n",
        "  def predict(self, X):\n",
        "    y_prev = self.feedforward(X)\n",
        "    # converter probabilidades em classes\n",
        "    return np.argmax(y_prev, axis=1) # retorna a classe com a maior probabilidade\n",
        "\n",
        "# função de ativação sigmoidal\n",
        "def sigmoid(x):\n",
        "  return 1 / (1 + np.exp(-x))\n",
        "\n",
        "# derivada da função segmoidal\n",
        "def deriv_sigmoid(x):\n",
        "  return x * (1 - x)\n",
        "\n",
        "# função softmax para múltiplas classes\n",
        "def softmax(x):\n",
        "  exp_x = np.exp(x - np.max(x, axis=1, keepdims=True))\n",
        "  return exp_x / np.sum(exp_x, axis=1, keepdims=True)\n",
        "\n",
        "# função de custo (perda) -> Erro quadrático médio (Mean Squared Error - MSE)\n",
        "# função boa para utilização em problemas de regressão\n",
        "def mse_perda(y_real, y_prev):\n",
        "  return np.mean((y_real - y_prev) ** 2)\n"
      ],
      "metadata": {
        "id": "_Xp3K2S7Ie7H"
      },
      "execution_count": 104,
      "outputs": []
    },
    {
      "cell_type": "code",
      "source": [
        "# dividindo dados e criando um MLP\n",
        "\n",
        "# dividindo os dados de treino, validação e teste\n",
        "X_treino, X_val, X_teste, y_treino, y_val, y_teste = div_dados(X, y)\n",
        "\n",
        "# criando o MLP\n",
        "input_size = X.shape[1]\n",
        "hidden_size = 50\n",
        "output_size = 3 # agora temos 3 classes no dataset\n",
        "mlp = MLP(input_size, hidden_size, output_size, 0.1)"
      ],
      "metadata": {
        "id": "OpRpVVXzIU4e"
      },
      "execution_count": 105,
      "outputs": []
    },
    {
      "cell_type": "code",
      "source": [
        "# treinando o MLP\n",
        "mlp.train(X_treino, y_treino, X_val, y_val, epochs=10000)"
      ],
      "metadata": {
        "colab": {
          "base_uri": "https://localhost:8080/"
        },
        "id": "s590ae6Fhfh9",
        "outputId": "9e34a725-cce5-40eb-f7d7-5c196db20847"
      },
      "execution_count": 106,
      "outputs": [
        {
          "output_type": "stream",
          "name": "stdout",
          "text": [
            "Epoch: 0, Perda no treino: 0.3999, Perda na validação: 0.4888\n",
            "Epoch: 100, Perda no treino: 0.0256, Perda na validação: 0.0503\n",
            "Epoch: 200, Perda no treino: 0.0151, Perda na validação: 0.0297\n",
            "Epoch: 300, Perda no treino: 0.0122, Perda na validação: 0.0207\n",
            "Epoch: 400, Perda no treino: 0.0112, Perda na validação: 0.0166\n",
            "Epoch: 500, Perda no treino: 0.0107, Perda na validação: 0.0151\n",
            "Epoch: 600, Perda no treino: 0.0104, Perda na validação: 0.0149\n",
            "Epoch: 700, Perda no treino: 0.0102, Perda na validação: 0.0155\n",
            "Epoch: 800, Perda no treino: 0.0100, Perda na validação: 0.0166\n",
            "Epoch: 900, Perda no treino: 0.0098, Perda na validação: 0.0179\n",
            "Epoch: 1000, Perda no treino: 0.0097, Perda na validação: 0.0195\n",
            "Epoch: 1100, Perda no treino: 0.0096, Perda na validação: 0.0212\n",
            "Epoch: 1200, Perda no treino: 0.0094, Perda na validação: 0.0230\n",
            "Epoch: 1300, Perda no treino: 0.0093, Perda na validação: 0.0248\n",
            "Epoch: 1400, Perda no treino: 0.0092, Perda na validação: 0.0266\n",
            "Epoch: 1500, Perda no treino: 0.0091, Perda na validação: 0.0282\n",
            "Epoch: 1600, Perda no treino: 0.0091, Perda na validação: 0.0298\n",
            "Epoch: 1700, Perda no treino: 0.0090, Perda na validação: 0.0311\n",
            "Epoch: 1800, Perda no treino: 0.0090, Perda na validação: 0.0324\n",
            "Epoch: 1900, Perda no treino: 0.0089, Perda na validação: 0.0335\n",
            "Epoch: 2000, Perda no treino: 0.0089, Perda na validação: 0.0345\n",
            "Epoch: 2100, Perda no treino: 0.0088, Perda na validação: 0.0353\n",
            "Epoch: 2200, Perda no treino: 0.0088, Perda na validação: 0.0361\n",
            "Epoch: 2300, Perda no treino: 0.0088, Perda na validação: 0.0368\n",
            "Epoch: 2400, Perda no treino: 0.0087, Perda na validação: 0.0374\n",
            "Epoch: 2500, Perda no treino: 0.0087, Perda na validação: 0.0379\n",
            "Epoch: 2600, Perda no treino: 0.0087, Perda na validação: 0.0384\n",
            "Epoch: 2700, Perda no treino: 0.0087, Perda na validação: 0.0388\n",
            "Epoch: 2800, Perda no treino: 0.0087, Perda na validação: 0.0392\n",
            "Epoch: 2900, Perda no treino: 0.0087, Perda na validação: 0.0395\n",
            "Epoch: 3000, Perda no treino: 0.0087, Perda na validação: 0.0398\n",
            "Epoch: 3100, Perda no treino: 0.0086, Perda na validação: 0.0401\n",
            "Epoch: 3200, Perda no treino: 0.0087, Perda na validação: 0.0402\n",
            "Epoch: 3300, Perda no treino: 0.0089, Perda na validação: 0.0369\n",
            "Epoch: 3400, Perda no treino: 0.0088, Perda na validação: 0.0386\n",
            "Epoch: 3500, Perda no treino: 0.0087, Perda na validação: 0.0395\n",
            "Epoch: 3600, Perda no treino: 0.0087, Perda na validação: 0.0401\n",
            "Epoch: 3700, Perda no treino: 0.0086, Perda na validação: 0.0405\n",
            "Epoch: 3800, Perda no treino: 0.0086, Perda na validação: 0.0408\n",
            "Epoch: 3900, Perda no treino: 0.0086, Perda na validação: 0.0410\n",
            "Epoch: 4000, Perda no treino: 0.0086, Perda na validação: 0.0413\n",
            "Epoch: 4100, Perda no treino: 0.0086, Perda na validação: 0.0414\n",
            "Epoch: 4200, Perda no treino: 0.0086, Perda na validação: 0.0416\n",
            "Epoch: 4300, Perda no treino: 0.0086, Perda na validação: 0.0417\n",
            "Epoch: 4400, Perda no treino: 0.0086, Perda na validação: 0.0419\n",
            "Epoch: 4500, Perda no treino: 0.0086, Perda na validação: 0.0420\n",
            "Epoch: 4600, Perda no treino: 0.0086, Perda na validação: 0.0421\n",
            "Epoch: 4700, Perda no treino: 0.0086, Perda na validação: 0.0422\n",
            "Epoch: 4800, Perda no treino: 0.0086, Perda na validação: 0.0423\n",
            "Epoch: 4900, Perda no treino: 0.0086, Perda na validação: 0.0423\n",
            "Epoch: 5000, Perda no treino: 0.0088, Perda na validação: 0.0418\n",
            "Epoch: 5100, Perda no treino: 0.0086, Perda na validação: 0.0422\n",
            "Epoch: 5200, Perda no treino: 0.0086, Perda na validação: 0.0423\n",
            "Epoch: 5300, Perda no treino: 0.0090, Perda na validação: 0.0417\n",
            "Epoch: 5400, Perda no treino: 0.0087, Perda na validação: 0.0423\n",
            "Epoch: 5500, Perda no treino: 0.0093, Perda na validação: 0.0415\n",
            "Epoch: 5600, Perda no treino: 0.0087, Perda na validação: 0.0422\n",
            "Epoch: 5700, Perda no treino: 0.0091, Perda na validação: 0.0419\n",
            "Epoch: 5800, Perda no treino: 0.0088, Perda na validação: 0.0422\n",
            "Epoch: 5900, Perda no treino: 0.0090, Perda na validação: 0.0421\n",
            "Epoch: 6000, Perda no treino: 0.0089, Perda na validação: 0.0422\n",
            "Epoch: 6100, Perda no treino: 0.0089, Perda na validação: 0.0422\n",
            "Epoch: 6200, Perda no treino: 0.0089, Perda na validação: 0.0423\n",
            "Epoch: 6300, Perda no treino: 0.0089, Perda na validação: 0.0423\n",
            "Epoch: 6400, Perda no treino: 0.0089, Perda na validação: 0.0423\n",
            "Epoch: 6500, Perda no treino: 0.0089, Perda na validação: 0.0424\n",
            "Epoch: 6600, Perda no treino: 0.0089, Perda na validação: 0.0424\n",
            "Epoch: 6700, Perda no treino: 0.0089, Perda na validação: 0.0424\n",
            "Epoch: 6800, Perda no treino: 0.0089, Perda na validação: 0.0424\n",
            "Epoch: 6900, Perda no treino: 0.0089, Perda na validação: 0.0425\n",
            "Epoch: 7000, Perda no treino: 0.0089, Perda na validação: 0.0425\n",
            "Epoch: 7100, Perda no treino: 0.0089, Perda na validação: 0.0425\n",
            "Epoch: 7200, Perda no treino: 0.0089, Perda na validação: 0.0426\n",
            "Epoch: 7300, Perda no treino: 0.0089, Perda na validação: 0.0426\n",
            "Epoch: 7400, Perda no treino: 0.0089, Perda na validação: 0.0426\n",
            "Epoch: 7500, Perda no treino: 0.0089, Perda na validação: 0.0426\n",
            "Epoch: 7600, Perda no treino: 0.0088, Perda na validação: 0.0426\n",
            "Epoch: 7700, Perda no treino: 0.0088, Perda na validação: 0.0427\n",
            "Epoch: 7800, Perda no treino: 0.0088, Perda na validação: 0.0427\n",
            "Epoch: 7900, Perda no treino: 0.0088, Perda na validação: 0.0427\n",
            "Epoch: 8000, Perda no treino: 0.0088, Perda na validação: 0.0427\n",
            "Epoch: 8100, Perda no treino: 0.0088, Perda na validação: 0.0428\n",
            "Epoch: 8200, Perda no treino: 0.0088, Perda na validação: 0.0428\n",
            "Epoch: 8300, Perda no treino: 0.0088, Perda na validação: 0.0428\n",
            "Epoch: 8400, Perda no treino: 0.0088, Perda na validação: 0.0428\n",
            "Epoch: 8500, Perda no treino: 0.0088, Perda na validação: 0.0428\n",
            "Epoch: 8600, Perda no treino: 0.0088, Perda na validação: 0.0428\n",
            "Epoch: 8700, Perda no treino: 0.0088, Perda na validação: 0.0429\n",
            "Epoch: 8800, Perda no treino: 0.0088, Perda na validação: 0.0429\n",
            "Epoch: 8900, Perda no treino: 0.0088, Perda na validação: 0.0429\n",
            "Epoch: 9000, Perda no treino: 0.0088, Perda na validação: 0.0429\n",
            "Epoch: 9100, Perda no treino: 0.0088, Perda na validação: 0.0429\n",
            "Epoch: 9200, Perda no treino: 0.0088, Perda na validação: 0.0429\n",
            "Epoch: 9300, Perda no treino: 0.0088, Perda na validação: 0.0430\n",
            "Epoch: 9400, Perda no treino: 0.0088, Perda na validação: 0.0430\n",
            "Epoch: 9500, Perda no treino: 0.0088, Perda na validação: 0.0430\n",
            "Epoch: 9600, Perda no treino: 0.0088, Perda na validação: 0.0430\n",
            "Epoch: 9700, Perda no treino: 0.0088, Perda na validação: 0.0430\n",
            "Epoch: 9800, Perda no treino: 0.0088, Perda na validação: 0.0430\n",
            "Epoch: 9900, Perda no treino: 0.0088, Perda na validação: 0.0430\n"
          ]
        }
      ]
    },
    {
      "cell_type": "code",
      "source": [
        "# testando o MLP\n",
        "y_prev_teste = mlp.predict(X_teste)\n",
        "\n",
        "# convertendo as labels de volta para o formato original (não one-hot)\n",
        "y_teste_real = np.argmax(y_teste, axis=1)\n",
        "\n",
        "# imprimindo previsões\n",
        "for i in range(len(X_teste)):\n",
        "        print(f\"Entrada: {X_teste[i]}, Predito: {y_prev_teste[i]}, Real: {y_teste_real[i]}\")"
      ],
      "metadata": {
        "colab": {
          "base_uri": "https://localhost:8080/"
        },
        "id": "J8Vp6Bk-hkUV",
        "outputId": "aa80d3cd-c661-4755-fb1f-d7d949835b36"
      },
      "execution_count": 107,
      "outputs": [
        {
          "output_type": "stream",
          "name": "stdout",
          "text": [
            "Entrada: [0.11111111 0.5        0.05084746 0.04166667], Predito: 0, Real: 0\n",
            "Entrada: [0.36111111 0.41666667 0.59322034 0.58333333], Predito: 1, Real: 1\n",
            "Entrada: [0.30555556 0.58333333 0.08474576 0.125     ], Predito: 0, Real: 0\n",
            "Entrada: [0.41666667 0.83333333 0.03389831 0.04166667], Predito: 0, Real: 0\n",
            "Entrada: [0.52777778 0.375      0.55932203 0.5       ], Predito: 1, Real: 1\n",
            "Entrada: [0.41666667 0.29166667 0.69491525 0.75      ], Predito: 2, Real: 2\n",
            "Entrada: [0.38888889 0.25       0.42372881 0.375     ], Predito: 1, Real: 1\n",
            "Entrada: [0.72222222 0.45833333 0.69491525 0.91666667], Predito: 2, Real: 2\n",
            "Entrada: [0.63888889 0.41666667 0.57627119 0.54166667], Predito: 1, Real: 1\n",
            "Entrada: [0.44444444 0.5        0.6440678  0.70833333], Predito: 2, Real: 1\n",
            "Entrada: [0.27777778 0.70833333 0.08474576 0.04166667], Predito: 0, Real: 0\n",
            "Entrada: [0.16666667 0.45833333 0.08474576 0.        ], Predito: 0, Real: 0\n",
            "Entrada: [0.19444444 0.58333333 0.10169492 0.125     ], Predito: 0, Real: 0\n",
            "Entrada: [0.19444444 0.66666667 0.06779661 0.04166667], Predito: 0, Real: 0\n",
            "Entrada: [0.13888889 0.41666667 0.06779661 0.        ], Predito: 0, Real: 0\n",
            "Entrada: [0.69444444 0.5        0.83050847 0.91666667], Predito: 2, Real: 2\n",
            "Entrada: [0.61111111 0.41666667 0.81355932 0.875     ], Predito: 2, Real: 2\n",
            "Entrada: [0.38888889 0.41666667 0.54237288 0.45833333], Predito: 1, Real: 1\n",
            "Entrada: [0.22222222 0.625      0.06779661 0.04166667], Predito: 0, Real: 0\n",
            "Entrada: [0.58333333 0.33333333 0.77966102 0.83333333], Predito: 2, Real: 2\n",
            "Entrada: [0.58333333 0.45833333 0.76271186 0.70833333], Predito: 2, Real: 2\n",
            "Entrada: [0.33333333 0.16666667 0.47457627 0.41666667], Predito: 1, Real: 1\n",
            "Entrada: [0.13888889 0.45833333 0.10169492 0.04166667], Predito: 0, Real: 0\n",
            "Entrada: [0.83333333 0.375      0.89830508 0.70833333], Predito: 2, Real: 2\n",
            "Entrada: [0.58333333 0.375      0.55932203 0.5       ], Predito: 1, Real: 1\n",
            "Entrada: [0.16666667 0.66666667 0.06779661 0.        ], Predito: 0, Real: 0\n",
            "Entrada: [0.63888889 0.375      0.61016949 0.5       ], Predito: 1, Real: 1\n",
            "Entrada: [0.41666667 0.29166667 0.52542373 0.375     ], Predito: 1, Real: 1\n",
            "Entrada: [0.41666667 0.33333333 0.69491525 0.95833333], Predito: 2, Real: 2\n",
            "Entrada: [0.5        0.41666667 0.61016949 0.54166667], Predito: 1, Real: 1\n"
          ]
        }
      ]
    },
    {
      "cell_type": "code",
      "source": [
        "# calculando acurácia, precisão e revocação usando sklearn\n",
        "\n",
        "# importando do sklearn\n",
        "from sklearn.metrics import accuracy_score, precision_score, recall_score\n",
        "\n",
        "# Convertendo one-hot encoding de volta para rótulos de classes\n",
        "y_teste_labels = np.argmax(y_teste, axis=1)\n",
        "\n",
        "# calculando a acurácia\n",
        "acuracia = accuracy_score(y_teste_labels, y_prev_teste)\n",
        "print(f'Acurácia: {acuracia * 100}%')\n",
        "\n",
        "# calculando a precisão (média macro para lidar com classes balanceadas)\n",
        "precisao = precision_score(y_teste_labels, y_prev_teste, average='macro')\n",
        "print(f'Precisão (macro): {precisao * 100:.2f}%')\n",
        "\n",
        "# calculando a revocação (média macro)\n",
        "revocacao = recall_score(y_teste_labels, y_prev_teste, average='macro')\n",
        "print(f'Revocação (macro): {revocacao * 100:.2f}%')"
      ],
      "metadata": {
        "colab": {
          "base_uri": "https://localhost:8080/"
        },
        "id": "GWKua2FYh4y1",
        "outputId": "009e4ef8-620b-4acb-8a3e-065c6ca72343"
      },
      "execution_count": 108,
      "outputs": [
        {
          "output_type": "stream",
          "name": "stdout",
          "text": [
            "Acurácia: 96.66666666666667%\n",
            "Precisão (macro): 96.30%\n",
            "Revocação (macro): 96.97%\n"
          ]
        }
      ]
    },
    {
      "cell_type": "code",
      "source": [
        "# calculo da matriz de confusão para avaliar desempenho do modelo\n",
        "\n",
        "# importando matriz de confusão e relatório de classificação do sklearn\n",
        "from sklearn.metrics import confusion_matrix, classification_report\n",
        "\n",
        "# Convertendo one-hot encoding de volta para rótulos de classes\n",
        "y_teste_labels = np.argmax(y_teste, axis=1)\n",
        "\n",
        "# Imprimindo a matriz de confusão\n",
        "cm = confusion_matrix(y_teste_labels, y_prev_teste)\n",
        "print(\"\\nMatriz de Confusão:\")\n",
        "print(cm)\n",
        "\n",
        "# Imprimindo o relatório de classificação com precisão, recall e F1-score\n",
        "print(\"\\nRelatório de Classificação:\")\n",
        "print(classification_report(y_teste_labels, y_prev_teste))\n"
      ],
      "metadata": {
        "colab": {
          "base_uri": "https://localhost:8080/"
        },
        "id": "ZMABD050vb_h",
        "outputId": "592e98cf-3720-41ce-fa6a-3e25b39f7531"
      },
      "execution_count": 109,
      "outputs": [
        {
          "output_type": "stream",
          "name": "stdout",
          "text": [
            "\n",
            "Matriz de Confusão:\n",
            "[[11  0  0]\n",
            " [ 0 10  1]\n",
            " [ 0  0  8]]\n",
            "\n",
            "Relatório de Classificação:\n",
            "              precision    recall  f1-score   support\n",
            "\n",
            "           0       1.00      1.00      1.00        11\n",
            "           1       1.00      0.91      0.95        11\n",
            "           2       0.89      1.00      0.94         8\n",
            "\n",
            "    accuracy                           0.97        30\n",
            "   macro avg       0.96      0.97      0.96        30\n",
            "weighted avg       0.97      0.97      0.97        30\n",
            "\n"
          ]
        }
      ]
    },
    {
      "cell_type": "code",
      "source": [
        "# demonstrando graficamente a matriz de confusão\n",
        "\n",
        "# importando matplotlib e seaborn\n",
        "import matplotlib.pyplot as plt\n",
        "import seaborn as sns\n",
        "\n",
        "# plotando matriz de confusão\n",
        "plt.figure(figsize=(10, 8))\n",
        "sns.heatmap(cm, annot=True, fmt='g', cmap='Blues', annot_kws={\"size\": 20})  # Aumenta o tamanho da fonte das anotações\n",
        "plt.xlabel('Predição', fontsize=20)\n",
        "plt.ylabel('Valor Real', fontsize=20)\n",
        "plt.title('Matriz de Confusão', fontsize=20)\n",
        "plt.show()"
      ],
      "metadata": {
        "colab": {
          "base_uri": "https://localhost:8080/",
          "height": 740
        },
        "id": "7i1mjILPjoEg",
        "outputId": "8fd2b4a7-f349-4caf-8c75-5a7e1882a459"
      },
      "execution_count": 110,
      "outputs": [
        {
          "output_type": "display_data",
          "data": {
            "text/plain": [
              "<Figure size 1000x800 with 2 Axes>"
            ],
            "image/png": "[encoded data removed]"
          },
          "metadata": {}
        }
      ]
    }
  ]
}